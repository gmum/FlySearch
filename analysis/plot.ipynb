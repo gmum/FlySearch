{
 "cells": [
  {
   "cell_type": "code",
   "execution_count": 23,
   "id": "initial_id",
   "metadata": {
    "ExecuteTime": {
     "end_time": "2025-01-28T08:05:54.194416Z",
     "start_time": "2025-01-28T08:05:54.182521Z"
    }
   },
   "outputs": [],
   "source": [
    "import pathlib\n",
    "import glob\n",
    "import os\n",
    "import sys\n",
    "import json\n",
    "import seaborn as sns\n",
    "\n",
    "from matplotlib import pyplot as plt\n",
    "\n",
    "from analysis import Run, RunAnalyser, CriterionPlotter, load_all_runs_from_a_dir"
   ]
  },
  {
   "cell_type": "code",
   "execution_count": 24,
   "id": "eb87f34c-8386-4399-9b4e-7d68bc65d9e4",
   "metadata": {},
   "outputs": [
    {
     "name": "stdout",
     "output_type": "stream",
     "text": [
      "\\definecolor{color0}{RGB}{31,119,180}\n",
      "\\definecolor{color1}{RGB}{255,127,14}\n",
      "\\definecolor{color2}{RGB}{44,160,44}\n",
      "\\definecolor{color3}{RGB}{214,39,40}\n",
      "\\definecolor{color4}{RGB}{148,103,189}\n",
      "\\definecolor{color5}{RGB}{140,86,75}\n",
      "\\definecolor{color6}{RGB}{227,119,194}\n",
      "\\definecolor{color7}{RGB}{127,127,127}\n",
      "\\definecolor{color8}{RGB}{188,189,34}\n",
      "\\definecolor{color9}{RGB}{23,190,207}\n"
     ]
    }
   ],
   "source": [
    "COLORS = []\n",
    "for idx, c in enumerate(sns.color_palette()):\n",
    "    print(f\"\\\\definecolor{{color{idx}}}{{RGB}}{{{','.join(str(int(k * 255)) for k in c)}}}\")\n",
    "    COLORS.append(f'color{idx}')"
   ]
  },
  {
   "cell_type": "code",
   "execution_count": 25,
   "id": "9f9db232-d1ea-4c72-9899-6fabb8715db5",
   "metadata": {},
   "outputs": [],
   "source": [
    "CITY_CATEGORIES = ['road_construction_site', 'crowd', 'large_trash_pile', 'fire', 'car']\n",
    "FOREST_CATEGORIES = ['campsite', 'trash_pile', 'person', 'forest_fire', 'building']\n",
    "ALL_CATEGORIES = ['large_trash_pile', 'fire', 'car', 'trash_pile', 'person', 'building','campsite', 'forest_fire', 'road_construction_site', 'crowd']\n",
    "MODELS = [\n",
    "    'GPT4o',\n",
    "    'Sonnet',\n",
    "    'Gemini',\n",
    "    'Phi',\n",
    "    'InternVL',\n",
    "    'llava-interleave-7b',\n",
    "    'Qwen2-VL-72B',\n",
    "    'llava-onevision',\n",
    "    'Pixtral-Large-Instruct-2411',\n",
    "]\n",
    "colors_map = {k: v for k, v in zip(MODELS, COLORS)}"
   ]
  },
  {
   "cell_type": "code",
   "execution_count": 26,
   "id": "5a3e748d-a79d-4b97-a7e3-375c9d96e6bd",
   "metadata": {},
   "outputs": [
    {
     "data": {
      "text/plain": [
       "{'GPT4o': 'color0',\n",
       " 'Sonnet': 'color1',\n",
       " 'Gemini': 'color2',\n",
       " 'Phi': 'color3',\n",
       " 'InternVL': 'color4',\n",
       " 'llava-interleave-7b': 'color5',\n",
       " 'Qwen2-VL-72B': 'color6',\n",
       " 'llava-onevision': 'color7',\n",
       " 'Pixtral-Large-Instruct-2411': 'color8'}"
      ]
     },
     "execution_count": 26,
     "metadata": {},
     "output_type": "execute_result"
    }
   ],
   "source": [
    "colors_map"
   ]
  },
  {
   "cell_type": "code",
   "execution_count": 27,
   "id": "c1e2c76e-7690-40a3-a6b4-33892a911bd8",
   "metadata": {},
   "outputs": [],
   "source": [
    "# Can be used for forest as well\n",
    "def class_aggregation_function(run: Run):\n",
    "    object_type = str(run.object_type).lower()\n",
    "\n",
    "    if \"car\" in object_type:\n",
    "        return \"car\"\n",
    "    elif \"pickup\" in object_type:\n",
    "        return \"car\"\n",
    "    elif \"truck\" in object_type:\n",
    "        return \"car\"\n",
    "    return object_type\n",
    "\n",
    "def anomaly_aggregation_function(run: Run):\n",
    "    object_type = str(run.object_type).lower()\n",
    "\n",
    "    if \"anomaly\" in object_type:\n",
    "        return \"anomaly\"\n",
    "    return 'main'\n",
    "\n",
    "def success_criterion(run):\n",
    "    return run.model_claimed and RunAnalyser(run).maciek_criterion_satisfied(10)"
   ]
  },
  {
   "cell_type": "markdown",
   "id": "b0b9c3cb-4990-4688-a187-ca9ec4a50bfb",
   "metadata": {},
   "source": [
    "## Settings"
   ]
  },
  {
   "cell_type": "code",
   "execution_count": 35,
   "id": "3c1afa057d7e332a",
   "metadata": {
    "ExecuteTime": {
     "end_time": "2025-01-28T08:05:54.609649Z",
     "start_time": "2025-01-28T08:05:54.605559Z"
    },
    "collapsed": false,
    "jupyter": {
     "outputs_hidden": false
    }
   },
   "outputs": [
    {
     "name": "stdout",
     "output_type": "stream",
     "text": [
      "[('GPT4o', '../all_logs/GPT4o-CityNew'), ('Sonnet', '../all_logs/Sonnet-CityNew'), ('Gemini', '../all_logs/Gemini-CityNew'), ('Phi', '../all_logs/Phi-CityNew'), ('InternVL', '../all_logs/InternVL-CityNew'), ('llava-interleave-7b', '../all_logs/llava-interleave-7b-CityNew'), ('Qwen2-VL-72B', '../all_logs/Qwen2-VL-72B-CityNew'), ('llava-onevision', '../all_logs/llava-onevision-CityNew'), ('Pixtral-Large-Instruct-2411', '../all_logs/Pixtral-Large-Instruct-2411-CityNew')]\n"
     ]
    }
   ],
   "source": [
    "base_path = \"../all_logs\"\n",
    "suffix = '-CityNew'\n",
    "all_exp = [(m, os.path.join(base_path, m + suffix)) for m in MODELS]\n",
    "print(all_exp)\n",
    "categories = ALL_CATEGORIES\n",
    "agg_fn = anomaly_aggregation_function\n",
    "# agg_fn = class_aggregation_function\n",
    "add_forest = True"
   ]
  },
  {
   "cell_type": "code",
   "execution_count": 36,
   "id": "6682971e3291b8ec",
   "metadata": {
    "ExecuteTime": {
     "end_time": "2025-01-27T23:40:55.818545Z",
     "start_time": "2025-01-27T23:40:52.430035Z"
    },
    "collapsed": false,
    "jupyter": {
     "outputs_hidden": false
    }
   },
   "outputs": [],
   "source": [
    "plots = []\n",
    "for model_name, exp_path in all_exp:\n",
    "    runs = load_all_runs_from_a_dir(pathlib.Path(exp_path))\n",
    "    if add_forest:\n",
    "        runs += load_all_runs_from_a_dir(pathlib.Path(exp_path.replace('City', 'Forest')))\n",
    "    plotter = CriterionPlotter(runs)\n",
    "    runs_aggregated_per_type = plotter.aggregate_runs_per_function(agg_fn)\n",
    "    claimed_stats = plotter.plot_accuracy_in_aggregated_runs(runs_aggregated_per_type, None, success_criterion=success_criterion)\n",
    "    unclaimed_stats = plotter.plot_accuracy_in_aggregated_runs(runs_aggregated_per_type, None,\n",
    "                                                           success_criterion=lambda x: RunAnalyser(\n",
    "                                                               x).maciek_criterion_satisfied(10))\n",
    "    plots.append((model_name, claimed_stats, unclaimed_stats))"
   ]
  },
  {
   "cell_type": "markdown",
   "id": "c7885358-b68e-4399-a6b2-150ba75c6a07",
   "metadata": {},
   "source": [
    "## Radar plot"
   ]
  },
  {
   "cell_type": "code",
   "execution_count": 34,
   "id": "d4a8323ade6ed8af",
   "metadata": {
    "ExecuteTime": {
     "end_time": "2025-01-27T23:41:07.253Z",
     "start_time": "2025-01-27T23:41:07.246536Z"
    },
    "collapsed": false,
    "jupyter": {
     "outputs_hidden": false
    },
    "scrolled": true
   },
   "outputs": [
    {
     "name": "stdout",
     "output_type": "stream",
     "text": [
      "\\tkzKiviatLine[thick,color=color0](19.570,41.300,31.110,43.400,19.050,51.110,68.750,53.570,30.000,56.520)\n",
      "\\tkzKiviatLine[thick,color=color1](23.910,23.910,37.780,37.740,40.480,68.890,59.380,60.710,17.500,65.220)\n",
      "\\tkzKiviatLine[thick,color=color2](39.130,43.480,42.220,41.510,23.810,48.890,40.620,64.290,30.000,60.870)\n",
      "\\tkzKiviatLine[thick,color=color3](0.000,0.000,0.000,0.000,0.000,0.000,0.000,0.000,0.000,0.000)\n",
      "\\tkzKiviatLine[thick,color=color4](0.000,2.170,0.000,3.770,2.380,4.440,0.000,7.140,0.000,8.700)\n",
      "\\tkzKiviatLine[thick,color=color5](0.000,6.520,0.000,0.000,0.000,0.000,0.000,10.710,0.000,0.000)\n",
      "\\tkzKiviatLine[thick,color=color6](13.040,21.740,17.780,9.430,4.760,28.890,6.250,35.710,12.500,30.430)\n",
      "\\tkzKiviatLine[thick,color=color7](2.170,30.430,4.440,9.430,9.520,15.560,25.000,42.860,12.500,4.350)\n",
      "\\tkzKiviatLine[thick,color=color8](21.740,21.740,20.000,26.420,16.670,62.220,43.750,46.430,10.000,43.480)\n"
     ]
    }
   ],
   "source": [
    "for name, stat, _ in plots:\n",
    "    print(f'\\\\tkzKiviatLine[thick,color={colors_map[name]}](', end='')\n",
    "    print(','.join([f\"{stat[c]['mean'] * 100:.3f}\" if c in stat else '' for c in categories]), end='')\n",
    "    print(')')"
   ]
  },
  {
   "cell_type": "code",
   "execution_count": 8,
   "id": "5abe2190-d861-49e9-ab9f-6967623d4c28",
   "metadata": {},
   "outputs": [
    {
     "name": "stdout",
     "output_type": "stream",
     "text": [
      "\\addlegendimage{color0,ultra thick}\n",
      "\\addlegendentry{GPT4o};\n",
      "\\addlegendimage{color1,ultra thick}\n",
      "\\addlegendentry{Sonnet};\n",
      "\\addlegendimage{color2,ultra thick}\n",
      "\\addlegendentry{Gemini};\n",
      "\\addlegendimage{color3,ultra thick}\n",
      "\\addlegendentry{Phi};\n",
      "\\addlegendimage{color4,ultra thick}\n",
      "\\addlegendentry{InternVL};\n",
      "\\addlegendimage{color5,ultra thick}\n",
      "\\addlegendentry{llava-interleave-7b};\n",
      "\\addlegendimage{color6,ultra thick}\n",
      "\\addlegendentry{Qwen2-VL-72B};\n",
      "\\addlegendimage{color7,ultra thick}\n",
      "\\addlegendentry{llava-onevision};\n",
      "\\addlegendimage{color8,ultra thick}\n",
      "\\addlegendentry{Pixtral-Large-Instruct-2411};\n"
     ]
    }
   ],
   "source": [
    "for k, v in colors_map.items():\n",
    "    print(f'\\\\addlegendimage{{{v},ultra thick}}')\n",
    "    print(f'\\\\addlegendentry{{{k}}};')\n",
    "    "
   ]
  },
  {
   "cell_type": "markdown",
   "id": "af77a995-70e6-432d-b6d5-83c3ffaa97c9",
   "metadata": {
    "collapsed": false,
    "jupyter": {
     "outputs_hidden": false
    }
   },
   "source": [
    "## Main plot"
   ]
  },
  {
   "cell_type": "code",
   "execution_count": 174,
   "id": "c5101d88-863b-46a3-866a-de812efa03a5",
   "metadata": {},
   "outputs": [
    {
     "name": "stdout",
     "output_type": "stream",
     "text": [
      "\\addplot[style={fill=color0},error bars/.cd, y dir=both, y explicit] coordinates {(1, 45.500) += (0,7.170) -= (0,7.040)};\n",
      "\\addplot[style={fill=color1},error bars/.cd, y dir=both, y explicit] coordinates {(2, 52.000) += (0,7.100) -= (0,7.160)};\n",
      "\\addplot[style={fill=color2},error bars/.cd, y dir=both, y explicit] coordinates {(3, 42.500) += (0,7.170) -= (0,6.940)};\n",
      "\\addplot[style={fill=color3},error bars/.cd, y dir=both, y explicit] coordinates {(4, 0.000) += (0,1.830) -= (0,0.000)};\n",
      "\\addplot[style={fill=color4},error bars/.cd, y dir=both, y explicit] coordinates {(5, 3.500) += (0,3.580) -= (0,2.080)};\n",
      "\\addplot[style={fill=color5},error bars/.cd, y dir=both, y explicit] coordinates {(6, 1.500) += (0,2.820) -= (0,1.190)};\n",
      "\\addplot[style={fill=color6},error bars/.cd, y dir=both, y explicit] coordinates {(7, 16.000) += (0,5.830) -= (0,4.790)};\n",
      "\\addplot[style={fill=color7},error bars/.cd, y dir=both, y explicit] coordinates {(8, 18.000) += (0,6.040) -= (0,5.060)};\n",
      "\\addplot[style={fill=color8},error bars/.cd, y dir=both, y explicit] coordinates {(9, 38.000) += (0,7.110) -= (0,6.750)};\n"
     ]
    }
   ],
   "source": [
    "for idx, (m, p, _) in enumerate(plots):\n",
    "    p = p['main']\n",
    "    mean = p['mean']\n",
    "    lower = p['mean'] - p['conf_int'][0]\n",
    "    upper = p['conf_int'][1] - p['mean']\n",
    "    print(f'\\\\addplot[style={{fill={colors_map[m]}}},error bars/.cd, y dir=both, y explicit] coordinates {{({idx+1}, {p[\"mean\"]*100:.3f}) += (0,{upper*100:.3f}) -= (0,{lower*100:.3f})}};')\n",
    "\n"
   ]
  },
  {
   "cell_type": "markdown",
   "id": "1a07d7ce-88df-4237-98d4-17e73c6843f7",
   "metadata": {},
   "source": [
    "## Anomaly"
   ]
  },
  {
   "cell_type": "code",
   "execution_count": 13,
   "id": "198ad645-c848-4530-99e4-c26280628881",
   "metadata": {},
   "outputs": [
    {
     "name": "stdout",
     "output_type": "stream",
     "text": [
      "\\addplot[style={fill=color0},error bars/.cd, y dir=both, y explicit] coordinates {(1, 15.000) += (0,8.530) -= (0,6.350)};\n",
      "\\addplot[style={fill=color1},error bars/.cd, y dir=both, y explicit] coordinates {(2, 18.000) += (0,8.950) -= (0,6.970)};\n",
      "\\addplot[style={fill=color2},error bars/.cd, y dir=both, y explicit] coordinates {(3, 25.000) += (0,9.660) -= (0,8.120)};\n",
      "\\addplot[style={fill=color3},error bars/.cd, y dir=both, y explicit] coordinates {(4, 0.000) += (0,3.620) -= (0,0.000)};\n",
      "\\addplot[style={fill=color4},error bars/.cd, y dir=both, y explicit] coordinates {(5, 1.000) += (0,4.450) -= (0,0.970)};\n",
      "\\addplot[style={fill=color5},error bars/.cd, y dir=both, y explicit] coordinates {(6, 0.000) += (0,3.620) -= (0,0.000)};\n",
      "\\addplot[style={fill=color6},error bars/.cd, y dir=both, y explicit] coordinates {(7, 5.000) += (0,6.280) -= (0,3.360)};\n",
      "\\addplot[style={fill=color7},error bars/.cd, y dir=both, y explicit] coordinates {(8, 6.000) += (0,6.600) -= (0,3.770)};\n",
      "\\addplot[style={fill=color8},error bars/.cd, y dir=both, y explicit] coordinates {(9, 4.000) += (0,5.930) -= (0,2.900)};\n"
     ]
    }
   ],
   "source": [
    "for idx, (m, p, _) in enumerate(plots):\n",
    "    p = p['anomaly']\n",
    "    mean = p['mean']\n",
    "    lower = p['mean'] - p['conf_int'][0]\n",
    "    upper = p['conf_int'][1] - p['mean']\n",
    "    print(f'\\\\addplot[style={{fill={colors_map[m]}}},error bars/.cd, y dir=both, y explicit] coordinates {{({idx+1}, {p[\"mean\"]*100:.3f}) += (0,{upper*100:.3f}) -= (0,{lower*100:.3f})}};')\n",
    "\n"
   ]
  },
  {
   "cell_type": "markdown",
   "id": "7260f77f-8e8c-42ef-adf6-9599260e5a99",
   "metadata": {},
   "source": [
    "## Non-claim"
   ]
  },
  {
   "cell_type": "code",
   "execution_count": 44,
   "id": "d420c9f8-c2df-4045-9f6e-e1baa6f963e3",
   "metadata": {},
   "outputs": [
    {
     "name": "stdout",
     "output_type": "stream",
     "text": [
      "\\addplot+[ybar] plot coordinates {(1,39.500)(2,41.250)(3,42.000)(4,0.000)(5,2.500)(6,1.500)(7,17.000)(8,14.750)(9,29.750)};\n",
      "\\addplot+[ybar] plot coordinates {(1,0.250)(2,0.250)(3,1.500)(4,4.250)(5,4.750)(6,7.750)(7,3.250)(8,1.500)(9,0.250)};\n"
     ]
    }
   ],
   "source": [
    "print(r'\\addplot+[ybar] plot coordinates {', end='')\n",
    "for idx, (m, p, pn) in enumerate(plots):\n",
    "    p = p['main']\n",
    "    pn = pn['main']   \n",
    "    print(f'({idx+1},{p[\"mean\"]*100:.3f})', end='')\n",
    "print('};')\n",
    "print(r'\\addplot+[ybar] plot coordinates {', end='')\n",
    "for idx, (m, p, pn) in enumerate(plots):\n",
    "    p = p['main']\n",
    "    pn = pn['main']   \n",
    "    print(f'({idx+1},{(pn[\"mean\"] - p[\"mean\"])*100:.3f})', end='')\n",
    "print('};')\n",
    "\n",
    "\n",
    "\n",
    "    "
   ]
  },
  {
   "cell_type": "code",
   "execution_count": null,
   "id": "37c7a912-a7b0-4196-ac78-12d76942cf2d",
   "metadata": {},
   "outputs": [],
   "source": []
  }
 ],
 "metadata": {
  "kernelspec": {
   "display_name": "Python 3 (ipykernel)",
   "language": "python",
   "name": "python3"
  },
  "language_info": {
   "codemirror_mode": {
    "name": "ipython",
    "version": 3
   },
   "file_extension": ".py",
   "mimetype": "text/x-python",
   "name": "python",
   "nbconvert_exporter": "python",
   "pygments_lexer": "ipython3",
   "version": "3.11.11"
  }
 },
 "nbformat": 4,
 "nbformat_minor": 5
}
