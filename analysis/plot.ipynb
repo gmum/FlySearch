{
 "cells": [
  {
   "cell_type": "code",
   "execution_count": 1,
   "id": "initial_id",
   "metadata": {
    "ExecuteTime": {
     "end_time": "2025-01-28T08:05:54.194416Z",
     "start_time": "2025-01-28T08:05:54.182521Z"
    }
   },
   "outputs": [],
   "source": [
    "import pathlib\n",
    "import glob\n",
    "import os\n",
    "import sys\n",
    "import json\n",
    "import seaborn as sns\n",
    "\n",
    "from matplotlib import pyplot as plt\n",
    "\n",
    "from analysis import Run, RunAnalyser, CriterionPlotter, load_all_runs_from_a_dir"
   ]
  },
  {
   "cell_type": "code",
   "execution_count": 2,
   "id": "eb87f34c-8386-4399-9b4e-7d68bc65d9e4",
   "metadata": {},
   "outputs": [
    {
     "name": "stdout",
     "output_type": "stream",
     "text": [
      "\\definecolor{color0}{RGB}{31,119,180}\n",
      "\\definecolor{color1}{RGB}{255,127,14}\n",
      "\\definecolor{color2}{RGB}{44,160,44}\n",
      "\\definecolor{color3}{RGB}{214,39,40}\n",
      "\\definecolor{color4}{RGB}{148,103,189}\n",
      "\\definecolor{color5}{RGB}{140,86,75}\n",
      "\\definecolor{color6}{RGB}{227,119,194}\n",
      "\\definecolor{color7}{RGB}{127,127,127}\n",
      "\\definecolor{color8}{RGB}{188,189,34}\n",
      "\\definecolor{color9}{RGB}{23,190,207}\n"
     ]
    }
   ],
   "source": [
    "COLORS = []\n",
    "for idx, c in enumerate(sns.color_palette()):\n",
    "    print(f\"\\\\definecolor{{color{idx}}}{{RGB}}{{{','.join(str(int(k * 255)) for k in c)}}}\")\n",
    "    COLORS.append(f'color{idx}')"
   ]
  },
  {
   "cell_type": "code",
   "execution_count": 3,
   "id": "9f9db232-d1ea-4c72-9899-6fabb8715db5",
   "metadata": {},
   "outputs": [],
   "source": [
    "CITY_CATEGORIES = ['road_construction_site', 'crowd', 'large_trash_pile', 'fire', 'car']\n",
    "FOREST_CATEGORIES = ['campsite', 'trash_pile', 'person', 'forest_fire', 'building']\n",
    "ALL_CATEGORIES = ['large_trash_pile', 'fire', 'car', 'trash_pile', 'person', 'building','campsite', 'forest_fire', 'road_construction_site', 'crowd']\n",
    "MODELS = [\n",
    "    'GPT4o',\n",
    "    'Sonnet',\n",
    "    'Gemini',\n",
    "    'Phi',\n",
    "    'InternVL',\n",
    "    'llava-interleave-7b',\n",
    "    'Qwen2-VL-72B',\n",
    "    'llava-onevision',\n",
    "    'Pixtral-Large-Instruct-2411',\n",
    "]\n",
    "MODEL_NAMES = [\n",
    "    'GPT-4o',\n",
    "    'Claude 3.5 Sonnet',\n",
    "    'Gemini 2.0 flash',\n",
    "    'Phi 3.5 vision',\n",
    "    'InternVL-2.5 8B MPO',\n",
    "    'Llava-Interleave-7b',\n",
    "    'Qwen2-VL-72B',\n",
    "    'Llava-Onevision 72b',\n",
    "    'Pixtral-Large'\n",
    "]\n",
    "colors_map = {k: v for k, v in zip(MODELS, COLORS)}\n",
    "model_name_map = {k: v for k, v in zip(MODELS, MODEL_NAMES)}"
   ]
  },
  {
   "cell_type": "code",
   "execution_count": 4,
   "id": "5a3e748d-a79d-4b97-a7e3-375c9d96e6bd",
   "metadata": {},
   "outputs": [
    {
     "data": {
      "text/plain": [
       "{'GPT4o': 'color0',\n",
       " 'Sonnet': 'color1',\n",
       " 'Gemini': 'color2',\n",
       " 'Phi': 'color3',\n",
       " 'InternVL': 'color4',\n",
       " 'llava-interleave-7b': 'color5',\n",
       " 'Qwen2-VL-72B': 'color6',\n",
       " 'llava-onevision': 'color7',\n",
       " 'Pixtral-Large-Instruct-2411': 'color8'}"
      ]
     },
     "execution_count": 4,
     "metadata": {},
     "output_type": "execute_result"
    }
   ],
   "source": [
    "colors_map"
   ]
  },
  {
   "cell_type": "code",
   "execution_count": 5,
   "id": "c1e2c76e-7690-40a3-a6b4-33892a911bd8",
   "metadata": {},
   "outputs": [],
   "source": [
    "# Can be used for forest as well\n",
    "def class_aggregation_function(run: Run):\n",
    "    object_type = str(run.object_type).lower()\n",
    "\n",
    "    if \"car\" in object_type:\n",
    "        return \"car\"\n",
    "    elif \"pickup\" in object_type:\n",
    "        return \"car\"\n",
    "    elif \"truck\" in object_type:\n",
    "        return \"car\"\n",
    "    return object_type\n",
    "\n",
    "def scenario_aggregation_function(run: Run):\n",
    "    object_type = class_aggregation_function(run)\n",
    "\n",
    "    if object_type in CITY_CATEGORIES:\n",
    "        return \"city\"\n",
    "    elif object_type in FOREST_CATEGORIES:\n",
    "        return \"forest\"\n",
    "    elif 'anomaly' in object_type:\n",
    "        if 'City' in str(run.path):\n",
    "            return 'anomaly-city'\n",
    "        elif 'Forest' in str(run.path):\n",
    "            return 'anomaly-forest'\n",
    "        else:\n",
    "            assert False, object_type\n",
    "    else:\n",
    "        assert False, object_type\n",
    "\n",
    "def anomaly_aggregation_function(run: Run):\n",
    "    object_type = str(run.object_type).lower()\n",
    "\n",
    "    if \"anomaly\" in object_type:\n",
    "        return \"anomaly\"\n",
    "    return 'main'\n",
    "\n",
    "def success_criterion(run):\n",
    "    return run.model_claimed and RunAnalyser(run).success_criterion_satisfied(10)"
   ]
  },
  {
   "cell_type": "markdown",
   "id": "b0b9c3cb-4990-4688-a187-ca9ec4a50bfb",
   "metadata": {},
   "source": [
    "## Settings"
   ]
  },
  {
   "cell_type": "code",
   "execution_count": 6,
   "id": "3c1afa057d7e332a",
   "metadata": {
    "ExecuteTime": {
     "end_time": "2025-01-28T08:05:54.609649Z",
     "start_time": "2025-01-28T08:05:54.605559Z"
    },
    "collapsed": false,
    "jupyter": {
     "outputs_hidden": false
    }
   },
   "outputs": [
    {
     "name": "stdout",
     "output_type": "stream",
     "text": [
      "[('GPT4o', '../all_logs/GPT4o-CityNew'), ('Sonnet', '../all_logs/Sonnet-CityNew'), ('Gemini', '../all_logs/Gemini-CityNew'), ('Phi', '../all_logs/Phi-CityNew'), ('InternVL', '../all_logs/InternVL-CityNew'), ('llava-interleave-7b', '../all_logs/llava-interleave-7b-CityNew'), ('Qwen2-VL-72B', '../all_logs/Qwen2-VL-72B-CityNew'), ('llava-onevision', '../all_logs/llava-onevision-CityNew'), ('Pixtral-Large-Instruct-2411', '../all_logs/Pixtral-Large-Instruct-2411-CityNew')]\n"
     ]
    }
   ],
   "source": [
    "base_path = \"../all_logs\"\n",
    "suffix = '-CityNew'\n",
    "all_exp = [(m, os.path.join(base_path, m + suffix)) for m in MODELS]\n",
    "print(all_exp)\n",
    "categories = ALL_CATEGORIES\n",
    "add_forest = True"
   ]
  },
  {
   "cell_type": "code",
   "execution_count": 7,
   "id": "6682971e3291b8ec",
   "metadata": {
    "ExecuteTime": {
     "end_time": "2025-01-27T23:40:55.818545Z",
     "start_time": "2025-01-27T23:40:52.430035Z"
    },
    "collapsed": false,
    "jupyter": {
     "outputs_hidden": false
    }
   },
   "outputs": [],
   "source": [
    "main_plots = []\n",
    "scenario_plots = []\n",
    "class_plots = []\n",
    "\n",
    "def get_stats(plotter, agg_fn):\n",
    "    runs_aggregated_per_type = plotter.aggregate_runs_per_function(agg_fn)\n",
    "    claimed_stats = plotter.plot_accuracy_in_aggregated_runs(runs_aggregated_per_type, None, success_criterion=success_criterion)\n",
    "    unclaimed_stats = plotter.plot_accuracy_in_aggregated_runs(runs_aggregated_per_type, None,\n",
    "                                                           success_criterion=lambda x: RunAnalyser(\n",
    "                                                               x).success_criterion_satisfied(10))\n",
    "    return claimed_stats, unclaimed_stats\n",
    "\n",
    "for model_name, exp_path in all_exp:\n",
    "    runs = load_all_runs_from_a_dir(pathlib.Path(exp_path))\n",
    "    if add_forest:\n",
    "        runs += load_all_runs_from_a_dir(pathlib.Path(exp_path.replace('City', 'Forest')))\n",
    "    plotter = CriterionPlotter(runs)\n",
    "\n",
    "    claimed_stats, unclaimed_stats = get_stats(plotter, anomaly_aggregation_function)\n",
    "    main_plots.append((model_name, claimed_stats, unclaimed_stats))\n",
    "\n",
    "    claimed_stats, unclaimed_stats = get_stats(plotter, scenario_aggregation_function)\n",
    "    scenario_plots.append((model_name, claimed_stats, unclaimed_stats))\n",
    "\n",
    "    claimed_stats, unclaimed_stats = get_stats(plotter, class_aggregation_function)\n",
    "    class_plots.append((model_name, claimed_stats, unclaimed_stats))"
   ]
  },
  {
   "cell_type": "markdown",
   "id": "c7885358-b68e-4399-a6b2-150ba75c6a07",
   "metadata": {},
   "source": [
    "## Radar plot"
   ]
  },
  {
   "cell_type": "code",
   "execution_count": 9,
   "id": "d4a8323ade6ed8af",
   "metadata": {
    "ExecuteTime": {
     "end_time": "2025-01-27T23:41:07.253Z",
     "start_time": "2025-01-27T23:41:07.246536Z"
    },
    "collapsed": false,
    "jupyter": {
     "outputs_hidden": false
    },
    "scrolled": true
   },
   "outputs": [
    {
     "name": "stdout",
     "output_type": "stream",
     "text": [
      "\\tkzKiviatLine[thick,color=color0](19.570,41.300,31.110,43.400,19.050,51.110,68.750,53.570,30.000,56.520)\n",
      "\\tkzKiviatLine[thick,color=color1](23.910,23.910,37.780,37.740,40.480,68.890,59.380,60.710,17.500,65.220)\n",
      "\\tkzKiviatLine[thick,color=color2](39.130,43.480,42.220,41.510,23.810,48.890,40.620,64.290,30.000,60.870)\n",
      "\\tkzKiviatLine[thick,color=color3](0.000,0.000,0.000,0.000,0.000,0.000,0.000,0.000,0.000,0.000)\n",
      "\\tkzKiviatLine[thick,color=color4](0.000,2.170,0.000,3.770,2.380,4.440,0.000,7.140,0.000,8.700)\n",
      "\\tkzKiviatLine[thick,color=color5](0.000,6.520,0.000,0.000,0.000,0.000,0.000,10.710,0.000,0.000)\n",
      "\\tkzKiviatLine[thick,color=color6](13.040,21.740,17.780,9.430,4.760,28.890,6.250,35.710,12.500,30.430)\n",
      "\\tkzKiviatLine[thick,color=color7](2.170,30.430,4.440,9.430,9.520,15.560,25.000,42.860,12.500,4.350)\n",
      "\\tkzKiviatLine[thick,color=color8](21.740,21.740,20.000,26.420,16.670,62.220,43.750,46.430,10.000,43.480)\n"
     ]
    }
   ],
   "source": [
    "for name, stat, _ in class_plots:\n",
    "    print(f'\\\\tkzKiviatLine[thick,color={colors_map[name]}](', end='')\n",
    "    print(','.join([f\"{stat[c]['mean'] * 100:.3f}\" if c in stat else '' for c in categories]), end='')\n",
    "    print(')')"
   ]
  },
  {
   "cell_type": "code",
   "execution_count": 11,
   "id": "5abe2190-d861-49e9-ab9f-6967623d4c28",
   "metadata": {},
   "outputs": [
    {
     "name": "stdout",
     "output_type": "stream",
     "text": [
      "\\addlegendimage{color0,ultra thick}\n",
      "\\addlegendentry{GPT4o};\n",
      "\\addlegendimage{color1,ultra thick}\n",
      "\\addlegendentry{Sonnet};\n",
      "\\addlegendimage{color2,ultra thick}\n",
      "\\addlegendentry{Gemini};\n",
      "\\addlegendimage{color3,ultra thick}\n",
      "\\addlegendentry{Phi};\n",
      "\\addlegendimage{color4,ultra thick}\n",
      "\\addlegendentry{InternVL};\n",
      "\\addlegendimage{color5,ultra thick}\n",
      "\\addlegendentry{llava-interleave-7b};\n",
      "\\addlegendimage{color6,ultra thick}\n",
      "\\addlegendentry{Qwen2-VL-72B};\n",
      "\\addlegendimage{color7,ultra thick}\n",
      "\\addlegendentry{llava-onevision};\n",
      "\\addlegendimage{color8,ultra thick}\n",
      "\\addlegendentry{Pixtral-Large-Instruct-2411};\n"
     ]
    }
   ],
   "source": [
    "for k, v in colors_map.items():\n",
    "    print(f'\\\\addlegendimage{{{v},ultra thick}}')\n",
    "    print(f'\\\\addlegendentry{{{k}}};')\n",
    "    "
   ]
  },
  {
   "cell_type": "markdown",
   "id": "af77a995-70e6-432d-b6d5-83c3ffaa97c9",
   "metadata": {
    "collapsed": false,
    "jupyter": {
     "outputs_hidden": false
    }
   },
   "source": [
    "## Main plot"
   ]
  },
  {
   "cell_type": "code",
   "execution_count": 12,
   "id": "c5101d88-863b-46a3-866a-de812efa03a5",
   "metadata": {},
   "outputs": [
    {
     "name": "stdout",
     "output_type": "stream",
     "text": [
      "\\addplot[style={fill=color0},error bars/.cd, y dir=both, y explicit] coordinates {(1, 39.500) += (0,4.980) -= (0,4.820)};\n",
      "\\addplot[style={fill=color1},error bars/.cd, y dir=both, y explicit] coordinates {(2, 41.250) += (0,5.000) -= (0,4.870)};\n",
      "\\addplot[style={fill=color2},error bars/.cd, y dir=both, y explicit] coordinates {(3, 42.000) += (0,5.010) -= (0,4.890)};\n",
      "\\addplot[style={fill=color3},error bars/.cd, y dir=both, y explicit] coordinates {(4, 0.000) += (0,0.920) -= (0,0.000)};\n",
      "\\addplot[style={fill=color4},error bars/.cd, y dir=both, y explicit] coordinates {(5, 2.500) += (0,2.050) -= (0,1.290)};\n",
      "\\addplot[style={fill=color5},error bars/.cd, y dir=both, y explicit] coordinates {(6, 1.500) += (0,1.740) -= (0,0.950)};\n",
      "\\addplot[style={fill=color6},error bars/.cd, y dir=both, y explicit] coordinates {(7, 17.000) += (0,4.050) -= (0,3.550)};\n",
      "\\addplot[style={fill=color7},error bars/.cd, y dir=both, y explicit] coordinates {(8, 14.750) += (0,3.860) -= (0,3.330)};\n",
      "\\addplot[style={fill=color8},error bars/.cd, y dir=both, y explicit] coordinates {(9, 29.750) += (0,4.740) -= (0,4.440)};\n"
     ]
    }
   ],
   "source": [
    "for idx, (m, p, _) in enumerate(main_plots):\n",
    "    p = p['main']\n",
    "    mean = p['mean']\n",
    "    lower = p['mean'] - p['conf_int'][0]\n",
    "    upper = p['conf_int'][1] - p['mean']\n",
    "    print(f'\\\\addplot[style={{fill={colors_map[m]}}},error bars/.cd, y dir=both, y explicit] coordinates {{({idx+1}, {p[\"mean\"]*100:.3f}) += (0,{upper*100:.3f}) -= (0,{lower*100:.3f})}};')\n",
    "\n"
   ]
  },
  {
   "cell_type": "markdown",
   "id": "1a07d7ce-88df-4237-98d4-17e73c6843f7",
   "metadata": {},
   "source": [
    "## Anomaly"
   ]
  },
  {
   "cell_type": "code",
   "execution_count": 13,
   "id": "198ad645-c848-4530-99e4-c26280628881",
   "metadata": {},
   "outputs": [
    {
     "name": "stdout",
     "output_type": "stream",
     "text": [
      "\\addplot[style={fill=color0},error bars/.cd, y dir=both, y explicit] coordinates {(1, 27.000) += (0,6.720) -= (0,6.020)};\n",
      "\\addplot[style={fill=color1},error bars/.cd, y dir=both, y explicit] coordinates {(2, 27.500) += (0,6.740) -= (0,6.060)};\n",
      "\\addplot[style={fill=color2},error bars/.cd, y dir=both, y explicit] coordinates {(3, 35.500) += (0,7.060) -= (0,6.620)};\n",
      "\\addplot[style={fill=color3},error bars/.cd, y dir=both, y explicit] coordinates {(4, 0.000) += (0,1.830) -= (0,0.000)};\n",
      "\\addplot[style={fill=color4},error bars/.cd, y dir=both, y explicit] coordinates {(5, 3.500) += (0,3.580) -= (0,2.080)};\n",
      "\\addplot[style={fill=color5},error bars/.cd, y dir=both, y explicit] coordinates {(6, 0.000) += (0,1.830) -= (0,0.000)};\n",
      "\\addplot[style={fill=color6},error bars/.cd, y dir=both, y explicit] coordinates {(7, 7.500) += (0,4.570) -= (0,3.240)};\n",
      "\\addplot[style={fill=color7},error bars/.cd, y dir=both, y explicit] coordinates {(8, 8.500) += (0,4.760) -= (0,3.470)};\n",
      "\\addplot[style={fill=color8},error bars/.cd, y dir=both, y explicit] coordinates {(9, 15.000) += (0,5.720) -= (0,4.650)};\n"
     ]
    }
   ],
   "source": [
    "for idx, (m, p, _) in enumerate(main_plots):\n",
    "    p = p['anomaly']\n",
    "    mean = p['mean']\n",
    "    lower = p['mean'] - p['conf_int'][0]\n",
    "    upper = p['conf_int'][1] - p['mean']\n",
    "    print(f'\\\\addplot[style={{fill={colors_map[m]}}},error bars/.cd, y dir=both, y explicit] coordinates {{({idx+1}, {p[\"mean\"]*100:.3f}) += (0,{upper*100:.3f}) -= (0,{lower*100:.3f})}};')\n",
    "\n"
   ]
  },
  {
   "cell_type": "markdown",
   "id": "7260f77f-8e8c-42ef-adf6-9599260e5a99",
   "metadata": {},
   "source": [
    "## Non-claim"
   ]
  },
  {
   "cell_type": "code",
   "execution_count": 14,
   "id": "d420c9f8-c2df-4045-9f6e-e1baa6f963e3",
   "metadata": {},
   "outputs": [
    {
     "name": "stdout",
     "output_type": "stream",
     "text": [
      "\\addplot+[ybar] plot coordinates {(1,39.500)(2,41.250)(3,42.000)(4,0.000)(5,2.500)(6,1.500)(7,17.000)(8,14.750)(9,29.750)};\n",
      "\\addplot+[ybar] plot coordinates {(1,0.250)(2,0.250)(3,1.500)(4,4.250)(5,4.750)(6,7.750)(7,3.250)(8,1.500)(9,0.250)};\n"
     ]
    }
   ],
   "source": [
    "print(r'\\addplot+[ybar] plot coordinates {', end='')\n",
    "for idx, (m, p, pn) in enumerate(main_plots):\n",
    "    p = p['main']\n",
    "    pn = pn['main']   \n",
    "    print(f'({idx+1},{p[\"mean\"]*100:.3f})', end='')\n",
    "print('};')\n",
    "print(r'\\addplot+[ybar] plot coordinates {', end='')\n",
    "for idx, (m, p, pn) in enumerate(main_plots):\n",
    "    p = p['main']\n",
    "    pn = pn['main']   \n",
    "    print(f'({idx+1},{(pn[\"mean\"] - p[\"mean\"])*100:.3f})', end='')\n",
    "print('};')\n",
    "\n",
    "\n",
    "\n",
    "    "
   ]
  },
  {
   "cell_type": "markdown",
   "id": "600a5573-808a-44e9-9d02-f5fb3b873d66",
   "metadata": {},
   "source": [
    "## Main v2"
   ]
  },
  {
   "cell_type": "code",
   "execution_count": 25,
   "id": "37c7a912-a7b0-4196-ac78-12d76942cf2d",
   "metadata": {},
   "outputs": [
    {
     "name": "stdout",
     "output_type": "stream",
     "text": [
      "GPT-4o & $ 39.5\\% \\pm 2.4 $ & $ 45.5\\% \\pm 3.5 $ & $ 33.5\\% \\pm 3.3 $& $ 27.0\\% \\pm 3.1 $ & $ 39.0\\% \\pm 4.9 $ & $ 15.0\\% \\pm 3.6 $ \\\\\n",
      "Claude 3.5 Sonnet & $ 41.2\\% \\pm 2.5 $ & $ 52.0\\% \\pm 3.5 $ & $ 30.5\\% \\pm 3.3 $& $ 27.5\\% \\pm 3.2 $ & $ 37.0\\% \\pm 4.9 $ & $ 18.0\\% \\pm 3.9 $ \\\\\n",
      "Gemini 2.0 flash & $ 42.0\\% \\pm 2.5 $ & $ 42.5\\% \\pm 3.5 $ & $ 41.5\\% \\pm 3.5 $& $ 35.5\\% \\pm 3.4 $ & $ 46.0\\% \\pm 5.0 $ & $ 25.0\\% \\pm 4.4 $ \\\\\n",
      "Phi 3.5 vision & $ 0.0\\% \\pm 0.0 $ & $ 0.0\\% \\pm 0.0 $ & $ 0.0\\% \\pm 0.0 $& $ 0.0\\% \\pm 0.0 $ & $ 0.0\\% \\pm 0.0 $ & $ 0.0\\% \\pm 0.0 $ \\\\\n",
      "InternVL-2.5 8B MPO & $ 2.5\\% \\pm 0.8 $ & $ 3.5\\% \\pm 1.3 $ & $ 1.5\\% \\pm 0.9 $& $ 3.5\\% \\pm 1.3 $ & $ 6.0\\% \\pm 2.4 $ & $ 1.0\\% \\pm 1.0 $ \\\\\n",
      "Llava-Interleave-7b & $ 1.5\\% \\pm 0.6 $ & $ 1.5\\% \\pm 0.9 $ & $ 1.5\\% \\pm 0.9 $& $ 0.0\\% \\pm 0.0 $ & $ 0.0\\% \\pm 0.0 $ & $ 0.0\\% \\pm 0.0 $ \\\\\n",
      "Qwen2-VL-72B & $ 17.0\\% \\pm 1.9 $ & $ 16.0\\% \\pm 2.6 $ & $ 18.0\\% \\pm 2.7 $& $ 7.5\\% \\pm 1.9 $ & $ 10.0\\% \\pm 3.0 $ & $ 5.0\\% \\pm 2.2 $ \\\\\n",
      "Llava-Onevision 72b & $ 14.8\\% \\pm 1.8 $ & $ 18.0\\% \\pm 2.7 $ & $ 11.5\\% \\pm 2.3 $& $ 8.5\\% \\pm 2.0 $ & $ 11.0\\% \\pm 3.1 $ & $ 6.0\\% \\pm 2.4 $ \\\\\n",
      "Pixtral-Large & $ 29.8\\% \\pm 2.3 $ & $ 38.0\\% \\pm 3.4 $ & $ 21.5\\% \\pm 2.9 $& $ 15.0\\% \\pm 2.5 $ & $ 26.0\\% \\pm 4.4 $ & $ 4.0\\% \\pm 2.0 $ \\\\\n"
     ]
    }
   ],
   "source": [
    "for k, p in zip(main_plots, scenario_plots):\n",
    "    print(f\"{model_name_map[p[0]]} & $ {k[1]['main']['mean']*100:.1f}\\\\% \\\\pm {k[1]['main']['sem']*100:.1f} $ & $ {p[1]['forest']['mean']*100:.1f}\\\\% \\\\pm {p[1]['forest']['sem']*100:.1f} $ \" +\n",
    "    f\"& $ {p[1]['city']['mean']*100:.1f}\\\\% \\\\pm {p[1]['city']['sem']*100:.1f} $\", end='')\n",
    "    print(f\"& $ {k[1]['anomaly']['mean']*100:.1f}\\\\% \\\\pm {k[1]['anomaly']['sem']*100:.1f} $ & $ {p[1]['anomaly-forest']['mean']*100:.1f}\\\\% \\\\pm {p[1]['anomaly-forest']['sem']*100:.1f} $ \" +\n",
    "    f\"& $ {p[1]['anomaly-city']['mean']*100:.1f}\\\\% \\\\pm {p[1]['anomaly-city']['sem']*100:.1f} $ \\\\\\\\\")\n",
    "\n",
    "\n",
    "\n",
    "    "
   ]
  },
  {
   "cell_type": "code",
   "execution_count": 21,
   "id": "bff73036-d35d-4ad0-9736-9eea5f819584",
   "metadata": {},
   "outputs": [
    {
     "data": {
      "text/plain": [
       "{'main': {'mean': np.float64(0.395),\n",
       "  'std': np.float64(0.4889),\n",
       "  'sem': np.float64(0.024473145222727952),\n",
       "  'conf_int': (0.3468, 0.4448),\n",
       "  'n': 400,\n",
       "  'total_successes': 158},\n",
       " 'anomaly': {'mean': np.float64(0.27),\n",
       "  'std': np.float64(0.444),\n",
       "  'sem': np.float64(0.03147145152843339),\n",
       "  'conf_int': (0.2098, 0.3372),\n",
       "  'n': 200,\n",
       "  'total_successes': 54}}"
      ]
     },
     "execution_count": 21,
     "metadata": {},
     "output_type": "execute_result"
    }
   ],
   "source": [
    "main_plots[0][1]"
   ]
  },
  {
   "cell_type": "code",
   "execution_count": 81,
   "id": "dd20d920-af98-4dc5-9e35-6b5cf3583b1f",
   "metadata": {},
   "outputs": [],
   "source": []
  },
  {
   "cell_type": "code",
   "execution_count": null,
   "id": "1ba120be-20cc-4eb1-a6a1-61aedc7dfa83",
   "metadata": {},
   "outputs": [],
   "source": []
  },
  {
   "cell_type": "code",
   "execution_count": null,
   "id": "25b4c886-0be4-44fb-a857-f3949533b2a1",
   "metadata": {},
   "outputs": [],
   "source": []
  },
  {
   "cell_type": "code",
   "execution_count": 26,
   "id": "46196e1e-d98d-41a6-ab0f-ca06e5069b86",
   "metadata": {},
   "outputs": [
    {
     "name": "stdout",
     "output_type": "stream",
     "text": [
      "\n",
      "<Context>\n",
      "    You are in command of a UAV, tasked with finding a large trash pile.\n",
      "</Context>\n",
      "\n",
      "<Objective>\n",
      "    You should fly BELOW 10 meters above the object and then reply with \"FOUND\". Being lower (closer to the object) (like 9, 8, or less meters) is good, being higher than that (like 11, 12, or more meters) is bad. \n",
      "\n",
      "    You may not be able to see the object in the first image, so you need to perform a careful search. Your performance will be evaluated based on whether the object was at most 10 meters below the drone when you replied with \"FOUND\". The object MUST be in your field of view when you reply with \"FOUND\". You must be centered on the object. \n",
      "</Objective>\n",
      "\n",
      "<Coordinates>\n",
      "    There is a grid overlaid on each image you are presented with. It is meant to (roughly) communicate which point will be in drone's center of vision if you move in that direction. Note that height of the drone is not represented in the grid.\n",
      "</Coordinates>\n",
      "\n",
      "<Controls>\n",
      "    <Action space>\n",
      "        To move the drone in a certain direction, use the following format: <Action>(x, y, z)</Action>. For example, if you want to fly to the place denoted as (10, 10) on the grid without changing the altitude, you should reply with <Action>(10, 10, 0)</Action>.\n",
      "\n",
      "        x and y are the coordinates on the grid, and z is the altitude difference. For example, <Action>(0, 0, -10)</Action> means that you are moving 10 meters down. This is especially important, since you need to get close to the object in question.\n",
      "\n",
      "    </Action space>\n",
      "\n",
      "    <Formatting>\n",
      "\n",
      "        Your each response should contain XML <Reasoning> tag and <Action> tag.\n",
      "        <Reasoning> tag should contain your reasoning for the move you are making.\n",
      "        <Action> tag should contain the move you are making.\n",
      "\n",
      "        If you find the object, fly below 10 meters relative to it and reply with \"FOUND\". Remember, it must be in your field of view when you reply with \"FOUND\" and you must be 10 meters above it or closer. Being too far away is not acceptable.\n",
      "\n",
      "        For example:\n",
      "\n",
      "        <Reasoning>This yellow point might be the object in question. I need to go lower to check for that. If it's not the object in question, I will continue the search. I will also slightly go to the north.</Reasoning>\n",
      "        <Action>(5, 0, -30)</Action>\n",
      "\n",
      "    </Formatting>\n",
      "\n",
      "    <Limitations>\n",
      "        You shouldn't move into coordinates that are outside of your view. Otherwise, you may hit something which is not ideal.\n",
      "        You can make at most 9 moves. Your altitude cannot exceed 120 meters. Your search area is 400x400m from the drone's starting position. \n",
      "    </Limitations>\n",
      "</Controls>\n",
      "\n"
     ]
    }
   ],
   "source": [
    "print(\"\\n<Context>\\n    You are in command of a UAV, tasked with finding a large trash pile.\\n</Context>\\n\\n<Objective>\\n    You should fly BELOW 10 meters above the object and then reply with \\\"FOUND\\\". Being lower (closer to the object) (like 9, 8, or less meters) is good, being higher than that (like 11, 12, or more meters) is bad. \\n\\n    You may not be able to see the object in the first image, so you need to perform a careful search. Your performance will be evaluated based on whether the object was at most 10 meters below the drone when you replied with \\\"FOUND\\\". The object MUST be in your field of view when you reply with \\\"FOUND\\\". You must be centered on the object. \\n</Objective>\\n\\n<Coordinates>\\n    There is a grid overlaid on each image you are presented with. It is meant to (roughly) communicate which point will be in drone's center of vision if you move in that direction. Note that height of the drone is not represented in the grid.\\n</Coordinates>\\n\\n<Controls>\\n    <Action space>\\n        To move the drone in a certain direction, use the following format: <Action>(x, y, z)</Action>. For example, if you want to fly to the place denoted as (10, 10) on the grid without changing the altitude, you should reply with <Action>(10, 10, 0)</Action>.\\n\\n        x and y are the coordinates on the grid, and z is the altitude difference. For example, <Action>(0, 0, -10)</Action> means that you are moving 10 meters down. This is especially important, since you need to get close to the object in question.\\n\\n    </Action space>\\n\\n    <Formatting>\\n\\n        Your each response should contain XML <Reasoning> tag and <Action> tag.\\n        <Reasoning> tag should contain your reasoning for the move you are making.\\n        <Action> tag should contain the move you are making.\\n\\n        If you find the object, fly below 10 meters relative to it and reply with \\\"FOUND\\\". Remember, it must be in your field of view when you reply with \\\"FOUND\\\" and you must be 10 meters above it or closer. Being too far away is not acceptable.\\n\\n        For example:\\n\\n        <Reasoning>This yellow point might be the object in question. I need to go lower to check for that. If it's not the object in question, I will continue the search. I will also slightly go to the north.</Reasoning>\\n        <Action>(5, 0, -30)</Action>\\n\\n    </Formatting>\\n\\n    <Limitations>\\n        You shouldn't move into coordinates that are outside of your view. Otherwise, you may hit something which is not ideal.\\n        You can make at most 9 moves. Your altitude cannot exceed 120 meters. Your search area is 400x400m from the drone's starting position. \\n    </Limitations>\\n</Controls>\\n\")"
   ]
  },
  {
   "cell_type": "code",
   "execution_count": null,
   "id": "c2452479-9a4a-4aa6-9d20-719cd9713444",
   "metadata": {},
   "outputs": [],
   "source": []
  }
 ],
 "metadata": {
  "kernelspec": {
   "display_name": "Python 3 (ipykernel)",
   "language": "python",
   "name": "python3"
  },
  "language_info": {
   "codemirror_mode": {
    "name": "ipython",
    "version": 3
   },
   "file_extension": ".py",
   "mimetype": "text/x-python",
   "name": "python",
   "nbconvert_exporter": "python",
   "pygments_lexer": "ipython3",
   "version": "3.11.11"
  }
 },
 "nbformat": 4,
 "nbformat_minor": 5
}
